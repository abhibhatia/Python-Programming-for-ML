{
 "cells": [
  {
   "cell_type": "markdown",
   "metadata": {},
   "source": [
    "# PYTHON BASICS FOR MACHINE LEARNING"
   ]
  },
  {
   "cell_type": "code",
   "execution_count": 82,
   "metadata": {},
   "outputs": [],
   "source": [
    "##variable\n",
    "x = 2\n",
    "y = 20.5\n",
    "z = \"HELLO\""
   ]
  },
  {
   "cell_type": "code",
   "execution_count": 105,
   "metadata": {},
   "outputs": [
    {
     "name": "stdout",
     "output_type": "stream",
     "text": [
      "2\n",
      "22.5\n"
     ]
    }
   ],
   "source": [
    "##printing\n",
    "print(x)\n",
    "print(x+y)"
   ]
  },
  {
   "cell_type": "code",
   "execution_count": 84,
   "metadata": {},
   "outputs": [
    {
     "name": "stdout",
     "output_type": "stream",
     "text": [
      "<class 'int'>\n",
      "<class 'float'>\n",
      "<class 'str'>\n"
     ]
    }
   ],
   "source": [
    "##type\n",
    "print(type(x))\n",
    "print(type(y))\n",
    "print(type(z))"
   ]
  },
  {
   "cell_type": "code",
   "execution_count": 85,
   "metadata": {},
   "outputs": [
    {
     "name": "stdout",
     "output_type": "stream",
     "text": [
      "hi bh\n"
     ]
    },
    {
     "data": {
      "text/plain": [
       "'abhi bhati'"
      ]
     },
     "execution_count": 85,
     "metadata": {},
     "output_type": "execute_result"
    }
   ],
   "source": [
    "##strings\n",
    "stri = \"abhi bhatia\"\n",
    "\n",
    "#slicing - start is included and the end is not included\n",
    "print(stri[2:7])\n",
    "\n",
    "##last element\n",
    "stri[-1]\n",
    "\n",
    "##all elements\n",
    "stri[:]\n",
    "\n",
    "##all elements except the last element\n",
    "stri[:-1]"
   ]
  },
  {
   "cell_type": "code",
   "execution_count": 86,
   "metadata": {},
   "outputs": [
    {
     "name": "stdout",
     "output_type": "stream",
     "text": [
      "['hello', 'everyone', 'lets', 'learn', 'python']\n",
      "['hello', 'cpp', 'java', 'python']\n"
     ]
    }
   ],
   "source": [
    "##split function on a parameter \n",
    "\n",
    "string = \"hello everyone lets learn python\"\n",
    "tokens = string.split(' ')\n",
    "print(tokens)\n",
    "\n",
    "string2 =\"hello.cpp.java.python\"\n",
    "print(string2.split('.'))"
   ]
  },
  {
   "cell_type": "code",
   "execution_count": 87,
   "metadata": {},
   "outputs": [
    {
     "name": "stdout",
     "output_type": "stream",
     "text": [
      "hello-everyone-lets-learn-python\n"
     ]
    }
   ],
   "source": [
    "##join function\n",
    "new_string = '-'.join(tokens)\n",
    "print(new_string)"
   ]
  },
  {
   "cell_type": "code",
   "execution_count": 88,
   "metadata": {},
   "outputs": [
    {
     "name": "stdout",
     "output_type": "stream",
     "text": [
      "1\n",
      "2\n",
      "3\n",
      "4\n",
      "5\n",
      "6\n",
      "7\n",
      "8\n",
      "9\n",
      "\n",
      "\n",
      "1\n",
      "4\n",
      "7\n"
     ]
    }
   ],
   "source": [
    "## for functio - range function\n",
    "\n",
    "for i in range(1,10):\n",
    "    print(i)\n",
    "\n",
    "print('\\n')    \n",
    "##with jump\n",
    "for i in range(1,10,3):\n",
    "    print(i)"
   ]
  },
  {
   "cell_type": "code",
   "execution_count": 89,
   "metadata": {},
   "outputs": [],
   "source": [
    "## functions in python\n",
    "\n",
    "def weather(weather):\n",
    "    if(weather==\"Sunny\"):\n",
    "        print(\"it is hot day\")\n",
    "    elif(weather==\"windy\"):\n",
    "        print(\"it is a windy day\")\n",
    "    else:\n",
    "        print(\"winters are coming!!!!\")"
   ]
  },
  {
   "cell_type": "code",
   "execution_count": 90,
   "metadata": {},
   "outputs": [
    {
     "name": "stdout",
     "output_type": "stream",
     "text": [
      "it is hot day\n"
     ]
    }
   ],
   "source": [
    "weather('Sunny')"
   ]
  },
  {
   "cell_type": "code",
   "execution_count": 91,
   "metadata": {},
   "outputs": [
    {
     "name": "stdout",
     "output_type": "stream",
     "text": [
      "winters are coming!!!!\n"
     ]
    }
   ],
   "source": [
    "w = 'winter'\n",
    "weather(w)"
   ]
  },
  {
   "cell_type": "code",
   "execution_count": 92,
   "metadata": {},
   "outputs": [],
   "source": [
    "##basics datastructures "
   ]
  },
  {
   "cell_type": "code",
   "execution_count": 93,
   "metadata": {},
   "outputs": [
    {
     "name": "stdout",
     "output_type": "stream",
     "text": [
      "[1, 2, 3, 4, 5, 1]\n",
      "[5, 6]\n",
      "[4, 5]\n",
      "[1, 2, 3, 4, [5, 6, 7]]\n"
     ]
    }
   ],
   "source": [
    "##lists-\n",
    "l1 = [1,2,3,4,5]\n",
    "l2 = list()\n",
    "l1.append(1)\n",
    "l2.append(5)\n",
    "print(l1)\n",
    "l2.append(6)\n",
    "print(l2)\n",
    "\n",
    "##slicing with lists\n",
    "print(l1[3:5])\n",
    "\n",
    "##2D-Lists-\n",
    "l3 = [1,2,3,4,[5,6,7]]\n",
    "print(l3)"
   ]
  },
  {
   "cell_type": "code",
   "execution_count": 94,
   "metadata": {},
   "outputs": [
    {
     "name": "stdout",
     "output_type": "stream",
     "text": [
      "0\n",
      "1\n",
      "8\n",
      "27\n",
      "64\n"
     ]
    }
   ],
   "source": [
    "##powers in python(**)\n",
    "for i in range(5):\n",
    "    print(i**3)"
   ]
  },
  {
   "cell_type": "code",
   "execution_count": 95,
   "metadata": {},
   "outputs": [
    {
     "name": "stdout",
     "output_type": "stream",
     "text": [
      "{'mango': 100, 'apple': 60, 'guava': 40}\n",
      "{'Abhishek': [25, 50, 45], 'Bhatia': [30, 54]}\n",
      "<class 'dict'>\n"
     ]
    },
    {
     "data": {
      "text/plain": [
       "dict_values([[25, 50, 45], [30, 54]])"
      ]
     },
     "execution_count": 95,
     "metadata": {},
     "output_type": "execute_result"
    }
   ],
   "source": [
    "##dictionaries - hashmaps(key-value) - syntax - curly brackets{}\n",
    "fruit = {'mango':100,\n",
    "         'apple':60,\n",
    "         'guava':40}\n",
    "\n",
    "##dictionaries with keys as lists \n",
    "\n",
    "name = {'Abhishek':[25,50,45],\n",
    "         'Bhatia':[30,54]}\n",
    "print(fruit)\n",
    "print(name)\n",
    "print(type(name))\n",
    "\n",
    "##inbuild functions \n",
    "fruit.keys()\n",
    "fruit.values()\n",
    "name.values()"
   ]
  },
  {
   "cell_type": "code",
   "execution_count": 101,
   "metadata": {},
   "outputs": [
    {
     "name": "stdout",
     "output_type": "stream",
     "text": [
      "15\n",
      "69.5\n"
     ]
    }
   ],
   "source": [
    "##arguments(args) and keyarguments(kwargs) in python functions\n",
    "\n",
    "def sum(x1,x2,*args,**kwargs):\n",
    "    ans = x1+x2\n",
    "    ##we can also iterate over args and kwargs\n",
    "    for i in args:\n",
    "        ans+=i\n",
    "    for j in kwargs.values():\n",
    "        ans+=j\n",
    "    return ans\n",
    "\n",
    "##args basically saves all the extra parameters given in function call\n",
    "##args used when number of parameters is not known.\n",
    "print(sum(1,2,3,4,5))\n",
    "\n",
    "##for the named parameters(variable parameter args cant be used so we use kwargs)\n",
    "print(sum(1,2,3,4,5,a=4,b=10,d=40.5))"
   ]
  }
 ],
 "metadata": {
  "kernelspec": {
   "display_name": "Python 3",
   "language": "python",
   "name": "python3"
  },
  "language_info": {
   "codemirror_mode": {
    "name": "ipython",
    "version": 3
   },
   "file_extension": ".py",
   "mimetype": "text/x-python",
   "name": "python",
   "nbconvert_exporter": "python",
   "pygments_lexer": "ipython3",
   "version": "3.7.4"
  }
 },
 "nbformat": 4,
 "nbformat_minor": 2
}
