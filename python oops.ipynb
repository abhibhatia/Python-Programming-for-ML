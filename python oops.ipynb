{
 "cells": [
  {
   "cell_type": "markdown",
   "metadata": {},
   "source": [
    "# OOPS IN PYTHON"
   ]
  },
  {
   "cell_type": "code",
   "execution_count": 6,
   "metadata": {},
   "outputs": [
    {
     "name": "stdout",
     "output_type": "stream",
     "text": [
      "<class '__main__.person'>\n"
     ]
    }
   ],
   "source": [
    "class person:\n",
    "    pass\n",
    "\n",
    "p = person()\n",
    "print(type(p))\n",
    "\n",
    "##In python pass is used to execute nothing.No change in execution with the pass statement."
   ]
  },
  {
   "cell_type": "code",
   "execution_count": 25,
   "metadata": {},
   "outputs": [
    {
     "name": "stdout",
     "output_type": "stream",
     "text": [
      "My name is Abhishek\n",
      "My college is Thapar\n",
      "I am Indian\n",
      "The secret name of the student is  Abhishek\n"
     ]
    },
    {
     "data": {
      "text/plain": [
       "'Indian'"
      ]
     },
     "execution_count": 25,
     "metadata": {},
     "output_type": "execute_result"
    }
   ],
   "source": [
    "##creating a class in python\n",
    "class person:\n",
    "    ##class variable is common for all the objects of the classs\n",
    "    nationality  = \"Indian\"\n",
    "    \n",
    "    ##__init__ is a way to declare a constructor in the python class\n",
    "    def __init__(self,pname,clg):\n",
    "        self.name = pname\n",
    "        self.college = clg\n",
    "    \n",
    "    ##(__) makes the function private only to the class person.\n",
    "    def __secretname(self):\n",
    "        print(\"The secret name of the student is \",self.name)\n",
    "    \n",
    "    def introduce(self):\n",
    "        print(\"My name is\",self.name)\n",
    "        print(\"My college is\",self.college)\n",
    "        print(\"I am\",self.nationality)\n",
    "        self.__secretname()\n",
    "\n",
    "p = person(\"Abhishek\",\"Thapar\")\n",
    "p.introduce()\n",
    "##p.__secretname() --> this will give an error since this is private\n",
    "p.nationality"
   ]
  },
  {
   "cell_type": "markdown",
   "metadata": {},
   "source": [
    "# Instance variables vs Class variables"
   ]
  },
  {
   "cell_type": "code",
   "execution_count": 29,
   "metadata": {},
   "outputs": [
    {
     "name": "stdout",
     "output_type": "stream",
     "text": [
      "roadside\n",
      "Brown\n",
      "['rolling']\n",
      "\n",
      "\n",
      "persian cat\n",
      "Brown\n",
      "['low roll', 'high roll']\n"
     ]
    }
   ],
   "source": [
    "class cat:\n",
    "    color = \"Brown\"\n",
    "    \n",
    "    def __init__(self,breed):\n",
    "        self.activities = []\n",
    "        self.breed = breed\n",
    "    \n",
    "    def activityselect(self,act):\n",
    "        self.activities.append(act)\n",
    "\n",
    "    def doactivity(self):\n",
    "        print(self.breed)\n",
    "        print(self.color)\n",
    "        print(self.activities)\n",
    "    \n",
    "\n",
    "c1 = cat(\"roadside\")\n",
    "c1.activityselect(\"rolling\")\n",
    "c1.doactivity()\n",
    "print(\"\\n\")\n",
    "## instance variables are the ones which are unique to particular instances(objects). --> activity and breed\n",
    "## class variables are the ones which are shared by all the instances of that particular class. --> color\n",
    "\n",
    "c2 = cat(\"persian cat\")\n",
    "c2.activityselect(\"low roll\")\n",
    "c2.activityselect(\"high roll\")\n",
    "c2.doactivity()"
   ]
  },
  {
   "cell_type": "markdown",
   "metadata": {},
   "source": [
    "# Public vs Private method and Inheritance"
   ]
  },
  {
   "cell_type": "code",
   "execution_count": 33,
   "metadata": {},
   "outputs": [
    {
     "name": "stdout",
     "output_type": "stream",
     "text": [
      "Init School Member: Mr.Alpha \n",
      "Init Teacher : Mr.Alpha\n",
      "Name :Mr.Alpha 30\n",
      "Salary : 45000\n",
      "Init School Member: Xyz \n",
      "Init Student Xyz\n",
      "Name :Xyz 20\n",
      "Marks 90\n"
     ]
    }
   ],
   "source": [
    "class SchoolMember:\n",
    "    def __init__(self,name,age):\n",
    "        self.name = name\n",
    "        self.age = age\n",
    "        print(\"Init School Member: %s \"%self.name)\n",
    "        \n",
    "    def introduce(self):\n",
    "        print(\"Name :%s %d\"%(self.name,self.age))\n",
    "        \n",
    "\n",
    "class Teacher(SchoolMember):\n",
    "    def __init__(self,name,age,salary):\n",
    "        SchoolMember.__init__(self,name,age)\n",
    "        self.salary = salary\n",
    "        print(\"Init Teacher : %s\"%self.name)\n",
    "\n",
    "    def introduce(self):\n",
    "        SchoolMember.introduce(self)\n",
    "        print(\"Salary : %d\"%(self.salary))\n",
    "            \n",
    "class Student(SchoolMember):\n",
    "    '''Represents a school student'''\n",
    "    def __init__(self,name,age,marks):\n",
    "        SchoolMember.__init__(self,name,age)\n",
    "        self.marks = marks\n",
    "        print(\"Init Student %s\"%(self.name))\n",
    "        \n",
    "    def introduce(self):\n",
    "        SchoolMember.introduce(self)\n",
    "        print(\"Marks %d\"%(self.marks))\n",
    "    \n",
    "\n",
    "t = Teacher(\"Mr.Alpha\",30,45000)\n",
    "t.introduce()\n",
    "\n",
    "s = Student(\"Xyz\",20,90)\n",
    "s.introduce()"
   ]
  },
  {
   "cell_type": "code",
   "execution_count": null,
   "metadata": {},
   "outputs": [],
   "source": [
    "print(x+y%z)"
   ]
  }
 ],
 "metadata": {
  "kernelspec": {
   "display_name": "Python 3",
   "language": "python",
   "name": "python3"
  },
  "language_info": {
   "codemirror_mode": {
    "name": "ipython",
    "version": 3
   },
   "file_extension": ".py",
   "mimetype": "text/x-python",
   "name": "python",
   "nbconvert_exporter": "python",
   "pygments_lexer": "ipython3",
   "version": "3.7.4"
  }
 },
 "nbformat": 4,
 "nbformat_minor": 2
}
